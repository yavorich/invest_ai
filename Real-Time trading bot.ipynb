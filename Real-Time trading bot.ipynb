{
 "cells": [
  {
   "cell_type": "code",
   "execution_count": 29,
   "id": "bb225aa6",
   "metadata": {},
   "outputs": [],
   "source": [
    "import os\n",
    "import pandas as pd\n",
    "from ta import add_all_ta_features\n",
    "from ta.utils import dropna\n",
    "import numpy as np\n",
    "from matplotlib import pyplot as plt\n",
    "pd.options.display.max_rows = 100\n",
    "import time\n",
    "from datetime import datetime\n",
    "import requests\n",
    "import json"
   ]
  },
  {
   "cell_type": "markdown",
   "id": "d789bb26",
   "metadata": {},
   "source": [
    "# 1. Getting old data"
   ]
  },
  {
   "cell_type": "code",
   "execution_count": 6,
   "id": "6aa44b72",
   "metadata": {},
   "outputs": [],
   "source": [
    "DATA_DIR = 'ExtrTAdata'\n",
    "DSET_NAME = 'NVDA_1_min_corr_extrs_unique.csv'\n",
    "main_df = pd.read_csv(os.path.join(DATA_DIR, DSET_NAME), index_col=0)"
   ]
  },
  {
   "cell_type": "code",
   "execution_count": 36,
   "id": "5b32f314",
   "metadata": {
    "scrolled": true
   },
   "outputs": [
    {
     "data": {
      "text/html": [
       "<div>\n",
       "<style scoped>\n",
       "    .dataframe tbody tr th:only-of-type {\n",
       "        vertical-align: middle;\n",
       "    }\n",
       "\n",
       "    .dataframe tbody tr th {\n",
       "        vertical-align: top;\n",
       "    }\n",
       "\n",
       "    .dataframe thead th {\n",
       "        text-align: right;\n",
       "    }\n",
       "</style>\n",
       "<table border=\"1\" class=\"dataframe\">\n",
       "  <thead>\n",
       "    <tr style=\"text-align: right;\">\n",
       "      <th></th>\n",
       "      <th>mon</th>\n",
       "      <th>wd</th>\n",
       "      <th>d</th>\n",
       "      <th>hr</th>\n",
       "      <th>min</th>\n",
       "      <th>v</th>\n",
       "      <th>o</th>\n",
       "      <th>c</th>\n",
       "      <th>h</th>\n",
       "      <th>l</th>\n",
       "      <th>t</th>\n",
       "      <th>volume_adi</th>\n",
       "      <th>volume_obv</th>\n",
       "      <th>volume_cmf</th>\n",
       "      <th>volume_fi</th>\n",
       "    </tr>\n",
       "  </thead>\n",
       "  <tbody>\n",
       "    <tr>\n",
       "      <th>306140</th>\n",
       "      <td>1</td>\n",
       "      <td>1</td>\n",
       "      <td>8</td>\n",
       "      <td>3</td>\n",
       "      <td>49</td>\n",
       "      <td>786.0</td>\n",
       "      <td>248.8</td>\n",
       "      <td>248.8</td>\n",
       "      <td>248.8</td>\n",
       "      <td>248.8</td>\n",
       "      <td>1.644281e+12</td>\n",
       "      <td>3.852313e+08</td>\n",
       "      <td>569902520.0</td>\n",
       "      <td>-0.329566</td>\n",
       "      <td>-59.140043</td>\n",
       "    </tr>\n",
       "  </tbody>\n",
       "</table>\n",
       "</div>"
      ],
      "text/plain": [
       "        mon  wd  d  hr  min      v      o      c      h      l             t  \\\n",
       "306140    1   1  8   3   49  786.0  248.8  248.8  248.8  248.8  1.644281e+12   \n",
       "\n",
       "          volume_adi   volume_obv  volume_cmf  volume_fi  \n",
       "306140  3.852313e+08  569902520.0   -0.329566 -59.140043  "
      ]
     },
     "execution_count": 36,
     "metadata": {},
     "output_type": "execute_result"
    }
   ],
   "source": [
    "main_df.tail(1).iloc[:, :15]"
   ]
  },
  {
   "cell_type": "markdown",
   "id": "44be4420",
   "metadata": {},
   "source": [
    "# 2. Adding last data"
   ]
  },
  {
   "cell_type": "code",
   "execution_count": 11,
   "id": "34228ae1",
   "metadata": {},
   "outputs": [
    {
     "data": {
      "text/plain": [
       "[1.0, 1.0, 8.0, 3.0, 49.0]"
      ]
     },
     "execution_count": 11,
     "metadata": {},
     "output_type": "execute_result"
    }
   ],
   "source": [
    "dt = main_df.iloc[-1, :5].values.tolist()\n",
    "dt"
   ]
  },
  {
   "cell_type": "code",
   "execution_count": 23,
   "id": "02545729",
   "metadata": {},
   "outputs": [],
   "source": [
    "def back_to_timestamp(arg):\n",
    "    y = 2022\n",
    "    mon = int(arg[0] + 1)\n",
    "    d, h, m = list(map(int, arg[2:]))\n",
    "    dt = datetime(y, mon, d, h, m)\n",
    "    ts = int(time.mktime(dt.timetuple()) * 1000)\n",
    "    return ts"
   ]
  },
  {
   "cell_type": "code",
   "execution_count": 30,
   "id": "1b42b7cb",
   "metadata": {},
   "outputs": [
    {
     "name": "stdout",
     "output_type": "stream",
     "text": [
      "Loaded: Tue Feb  8 03:50:00 2022 , Sat Mar 12 03:59:00 2022 | length: 18203\n",
      "NVDA data successfully loaded!\n",
      "-----------------------------------\n"
     ]
    }
   ],
   "source": [
    "api_key = 'pzLXmxJHiwev3vsFwSDperHvKtbxgBRP'\n",
    "ticker = 'NVDA'\n",
    "interval = 1\n",
    "start_time = back_to_timestamp(dt) + 60000\n",
    "end_time = int(time.time() * 1000)\n",
    "output = None\n",
    "while True:\n",
    "    res = requests.get(f'https://api.polygon.io/v2/aggs/ticker/{ticker}/range/{interval}' + \\\n",
    "                       f'/minute/{start_time}/{end_time}?limit=50000&apiKey={api_key}')\n",
    "    res_json = json.loads(res.content)\n",
    "    if len(res_json['results']) == 1:\n",
    "        break\n",
    "    if output is None:\n",
    "        output = res_json\n",
    "    else:\n",
    "        output['results'].extend(res_json['results'])\n",
    "    print('Loaded:', time.ctime(res_json['results'][0]['t'] / 1000), ',', \n",
    "          time.ctime(res_json['results'][-1]['t'] / 1000), '| length:', len(output['results']))\n",
    "    start_time = res_json['results'][-1]['t']\n",
    "    time.sleep(15)\n",
    "\n",
    "print(f'{ticker} data successfully loaded!')\n",
    "print('-----------------------------------')\n",
    "df = pd.DataFrame(output['results'])\n",
    "last_data = df.drop_duplicates()\n",
    "last_data = data.reindex(np.arange(data.shape[0]))"
   ]
  },
  {
   "cell_type": "code",
   "execution_count": 33,
   "id": "1716e36a",
   "metadata": {},
   "outputs": [],
   "source": [
    "def month_to_number(arg):\n",
    "    months = ['Jan', 'Feb', 'Mar', 'Apr', 'May', 'Jun', \n",
    "              'Jul', 'Aug', 'Sep', 'Oct', 'Nov', 'Dec']\n",
    "    if type(arg)!=str:\n",
    "        res = [months.index(val) for val in arg]\n",
    "    else:\n",
    "        res = months.index(arg)\n",
    "    return res\n",
    "\n",
    "def weekday_to_number(arg):\n",
    "    wdays = ['Mon', 'Tue', 'Wed', 'Thu', 'Fri', 'Sat']\n",
    "    if type(arg)!=str:\n",
    "        res = [wdays.index(val) for val in arg]\n",
    "    else:\n",
    "        res = wdays.index(arg)\n",
    "    return res\n",
    "\n",
    "def parse_timestamp(arg):\n",
    "    full_date = time.ctime(arg / 1000).split()\n",
    "    weekday = weekday_to_number(full_date[0])\n",
    "    month = month_to_number(full_date[1])\n",
    "    day = full_date[2]\n",
    "    h, m = full_date[3].split(':')[:-1]\n",
    "    return [month, weekday, int(day), int(h), int(m)]\n",
    "\n",
    "def add_datetime_to_df(df):\n",
    "    new_columns = ['mon', 'wd', 'd', 'hr', 'min']\n",
    "    for i, col in enumerate(new_columns):\n",
    "        df.insert(i, col, np.zeros((df.shape[0])))\n",
    "    df[new_columns] = [parse_timestamp(cell) for cell in df['t']]"
   ]
  },
  {
   "cell_type": "code",
   "execution_count": 34,
   "id": "34947723",
   "metadata": {},
   "outputs": [],
   "source": [
    "add_datetime_to_df(last_data)"
   ]
  },
  {
   "cell_type": "code",
   "execution_count": 37,
   "id": "1bbefe26",
   "metadata": {
    "scrolled": true
   },
   "outputs": [
    {
     "data": {
      "text/html": [
       "<div>\n",
       "<style scoped>\n",
       "    .dataframe tbody tr th:only-of-type {\n",
       "        vertical-align: middle;\n",
       "    }\n",
       "\n",
       "    .dataframe tbody tr th {\n",
       "        vertical-align: top;\n",
       "    }\n",
       "\n",
       "    .dataframe thead th {\n",
       "        text-align: right;\n",
       "    }\n",
       "</style>\n",
       "<table border=\"1\" class=\"dataframe\">\n",
       "  <thead>\n",
       "    <tr style=\"text-align: right;\">\n",
       "      <th></th>\n",
       "      <th>mon</th>\n",
       "      <th>wd</th>\n",
       "      <th>d</th>\n",
       "      <th>hr</th>\n",
       "      <th>min</th>\n",
       "      <th>v</th>\n",
       "      <th>vw</th>\n",
       "      <th>o</th>\n",
       "      <th>c</th>\n",
       "      <th>h</th>\n",
       "      <th>l</th>\n",
       "      <th>t</th>\n",
       "      <th>n</th>\n",
       "    </tr>\n",
       "  </thead>\n",
       "  <tbody>\n",
       "    <tr>\n",
       "      <th>18198</th>\n",
       "      <td>2</td>\n",
       "      <td>5</td>\n",
       "      <td>12</td>\n",
       "      <td>3</td>\n",
       "      <td>55</td>\n",
       "      <td>351.0</td>\n",
       "      <td>221.0781</td>\n",
       "      <td>221.08</td>\n",
       "      <td>221.08</td>\n",
       "      <td>221.08</td>\n",
       "      <td>221.08</td>\n",
       "      <td>1647046500000</td>\n",
       "      <td>9</td>\n",
       "    </tr>\n",
       "    <tr>\n",
       "      <th>18199</th>\n",
       "      <td>2</td>\n",
       "      <td>5</td>\n",
       "      <td>12</td>\n",
       "      <td>3</td>\n",
       "      <td>56</td>\n",
       "      <td>385.0</td>\n",
       "      <td>221.0976</td>\n",
       "      <td>221.01</td>\n",
       "      <td>221.01</td>\n",
       "      <td>221.01</td>\n",
       "      <td>221.01</td>\n",
       "      <td>1647046560000</td>\n",
       "      <td>14</td>\n",
       "    </tr>\n",
       "    <tr>\n",
       "      <th>18200</th>\n",
       "      <td>2</td>\n",
       "      <td>5</td>\n",
       "      <td>12</td>\n",
       "      <td>3</td>\n",
       "      <td>57</td>\n",
       "      <td>326.0</td>\n",
       "      <td>221.0431</td>\n",
       "      <td>221.00</td>\n",
       "      <td>221.00</td>\n",
       "      <td>221.00</td>\n",
       "      <td>221.00</td>\n",
       "      <td>1647046620000</td>\n",
       "      <td>16</td>\n",
       "    </tr>\n",
       "    <tr>\n",
       "      <th>18201</th>\n",
       "      <td>2</td>\n",
       "      <td>5</td>\n",
       "      <td>12</td>\n",
       "      <td>3</td>\n",
       "      <td>58</td>\n",
       "      <td>663.0</td>\n",
       "      <td>221.0279</td>\n",
       "      <td>221.10</td>\n",
       "      <td>221.00</td>\n",
       "      <td>221.10</td>\n",
       "      <td>221.00</td>\n",
       "      <td>1647046680000</td>\n",
       "      <td>10</td>\n",
       "    </tr>\n",
       "    <tr>\n",
       "      <th>18202</th>\n",
       "      <td>2</td>\n",
       "      <td>5</td>\n",
       "      <td>12</td>\n",
       "      <td>3</td>\n",
       "      <td>59</td>\n",
       "      <td>1434.0</td>\n",
       "      <td>221.0075</td>\n",
       "      <td>221.10</td>\n",
       "      <td>221.00</td>\n",
       "      <td>221.10</td>\n",
       "      <td>220.80</td>\n",
       "      <td>1647046740000</td>\n",
       "      <td>18</td>\n",
       "    </tr>\n",
       "  </tbody>\n",
       "</table>\n",
       "</div>"
      ],
      "text/plain": [
       "       mon  wd   d  hr  min       v        vw       o       c       h       l  \\\n",
       "18198    2   5  12   3   55   351.0  221.0781  221.08  221.08  221.08  221.08   \n",
       "18199    2   5  12   3   56   385.0  221.0976  221.01  221.01  221.01  221.01   \n",
       "18200    2   5  12   3   57   326.0  221.0431  221.00  221.00  221.00  221.00   \n",
       "18201    2   5  12   3   58   663.0  221.0279  221.10  221.00  221.10  221.00   \n",
       "18202    2   5  12   3   59  1434.0  221.0075  221.10  221.00  221.10  220.80   \n",
       "\n",
       "                   t   n  \n",
       "18198  1647046500000   9  \n",
       "18199  1647046560000  14  \n",
       "18200  1647046620000  16  \n",
       "18201  1647046680000  10  \n",
       "18202  1647046740000  18  "
      ]
     },
     "execution_count": 37,
     "metadata": {},
     "output_type": "execute_result"
    }
   ],
   "source": [
    "last_data.tail()"
   ]
  },
  {
   "cell_type": "markdown",
   "id": "038ee20c",
   "metadata": {},
   "source": [
    "# 3. Getting real-time data "
   ]
  },
  {
   "cell_type": "code",
   "execution_count": 97,
   "id": "6b54e186",
   "metadata": {},
   "outputs": [],
   "source": [
    "import yfinance as yf\n",
    "TK = yf.Ticker('NVDA')"
   ]
  },
  {
   "cell_type": "code",
   "execution_count": 102,
   "id": "aa08063a",
   "metadata": {},
   "outputs": [],
   "source": [
    "start_time = last_data.t.values[-1]\n",
    "delta = round((time.time() - start_time / 1000) / 60)"
   ]
  },
  {
   "cell_type": "code",
   "execution_count": 105,
   "id": "837dbc28",
   "metadata": {},
   "outputs": [
    {
     "data": {
      "text/plain": [
       "1647046740000"
      ]
     },
     "execution_count": 105,
     "metadata": {},
     "output_type": "execute_result"
    }
   ],
   "source": [
    "start_time"
   ]
  },
  {
   "cell_type": "code",
   "execution_count": 135,
   "id": "b8bb8947",
   "metadata": {},
   "outputs": [
    {
     "name": "stdout",
     "output_type": "stream",
     "text": [
      "[*********************100%***********************]  1 of 1 completed\n"
     ]
    }
   ],
   "source": [
    "df = yf.download('NVDA', period='3d', interval='1m')"
   ]
  },
  {
   "cell_type": "code",
   "execution_count": 136,
   "id": "1c46c3f5",
   "metadata": {},
   "outputs": [],
   "source": [
    "df.index = df.index.tz_convert('Europe/Moscow')"
   ]
  },
  {
   "cell_type": "code",
   "execution_count": 137,
   "id": "0b3f5b6f",
   "metadata": {
    "scrolled": false
   },
   "outputs": [
    {
     "data": {
      "text/html": [
       "<div>\n",
       "<style scoped>\n",
       "    .dataframe tbody tr th:only-of-type {\n",
       "        vertical-align: middle;\n",
       "    }\n",
       "\n",
       "    .dataframe tbody tr th {\n",
       "        vertical-align: top;\n",
       "    }\n",
       "\n",
       "    .dataframe thead th {\n",
       "        text-align: right;\n",
       "    }\n",
       "</style>\n",
       "<table border=\"1\" class=\"dataframe\">\n",
       "  <thead>\n",
       "    <tr style=\"text-align: right;\">\n",
       "      <th></th>\n",
       "      <th>Open</th>\n",
       "      <th>High</th>\n",
       "      <th>Low</th>\n",
       "      <th>Close</th>\n",
       "      <th>Adj Close</th>\n",
       "      <th>Volume</th>\n",
       "    </tr>\n",
       "    <tr>\n",
       "      <th>Datetime</th>\n",
       "      <th></th>\n",
       "      <th></th>\n",
       "      <th></th>\n",
       "      <th></th>\n",
       "      <th></th>\n",
       "      <th></th>\n",
       "    </tr>\n",
       "  </thead>\n",
       "  <tbody>\n",
       "    <tr>\n",
       "      <th>2022-03-14 22:56:00+03:00</th>\n",
       "      <td>213.369995</td>\n",
       "      <td>213.750000</td>\n",
       "      <td>213.360107</td>\n",
       "      <td>213.554993</td>\n",
       "      <td>213.554993</td>\n",
       "      <td>168402</td>\n",
       "    </tr>\n",
       "    <tr>\n",
       "      <th>2022-03-14 22:57:00+03:00</th>\n",
       "      <td>213.570007</td>\n",
       "      <td>213.570007</td>\n",
       "      <td>213.229996</td>\n",
       "      <td>213.460007</td>\n",
       "      <td>213.460007</td>\n",
       "      <td>133085</td>\n",
       "    </tr>\n",
       "    <tr>\n",
       "      <th>2022-03-14 22:58:00+03:00</th>\n",
       "      <td>213.460007</td>\n",
       "      <td>213.740005</td>\n",
       "      <td>213.380005</td>\n",
       "      <td>213.581207</td>\n",
       "      <td>213.581207</td>\n",
       "      <td>218680</td>\n",
       "    </tr>\n",
       "    <tr>\n",
       "      <th>2022-03-14 22:59:00+03:00</th>\n",
       "      <td>213.600006</td>\n",
       "      <td>213.610001</td>\n",
       "      <td>213.009995</td>\n",
       "      <td>213.190002</td>\n",
       "      <td>213.190002</td>\n",
       "      <td>431198</td>\n",
       "    </tr>\n",
       "    <tr>\n",
       "      <th>2022-03-14 23:00:00+03:00</th>\n",
       "      <td>213.300003</td>\n",
       "      <td>213.300003</td>\n",
       "      <td>213.300003</td>\n",
       "      <td>213.300003</td>\n",
       "      <td>213.300003</td>\n",
       "      <td>0</td>\n",
       "    </tr>\n",
       "  </tbody>\n",
       "</table>\n",
       "</div>"
      ],
      "text/plain": [
       "                                 Open        High         Low       Close  \\\n",
       "Datetime                                                                    \n",
       "2022-03-14 22:56:00+03:00  213.369995  213.750000  213.360107  213.554993   \n",
       "2022-03-14 22:57:00+03:00  213.570007  213.570007  213.229996  213.460007   \n",
       "2022-03-14 22:58:00+03:00  213.460007  213.740005  213.380005  213.581207   \n",
       "2022-03-14 22:59:00+03:00  213.600006  213.610001  213.009995  213.190002   \n",
       "2022-03-14 23:00:00+03:00  213.300003  213.300003  213.300003  213.300003   \n",
       "\n",
       "                            Adj Close  Volume  \n",
       "Datetime                                       \n",
       "2022-03-14 22:56:00+03:00  213.554993  168402  \n",
       "2022-03-14 22:57:00+03:00  213.460007  133085  \n",
       "2022-03-14 22:58:00+03:00  213.581207  218680  \n",
       "2022-03-14 22:59:00+03:00  213.190002  431198  \n",
       "2022-03-14 23:00:00+03:00  213.300003       0  "
      ]
     },
     "execution_count": 137,
     "metadata": {},
     "output_type": "execute_result"
    }
   ],
   "source": [
    "df.tail()"
   ]
  },
  {
   "cell_type": "code",
   "execution_count": 138,
   "id": "050a08f4",
   "metadata": {},
   "outputs": [
    {
     "data": {
      "text/plain": [
       "DatetimeIndex(['2022-03-10 17:30:00+03:00', '2022-03-10 17:31:00+03:00',\n",
       "               '2022-03-10 17:32:00+03:00', '2022-03-10 17:33:00+03:00',\n",
       "               '2022-03-10 17:34:00+03:00', '2022-03-10 17:35:00+03:00',\n",
       "               '2022-03-10 17:36:00+03:00', '2022-03-10 17:37:00+03:00',\n",
       "               '2022-03-10 17:38:00+03:00', '2022-03-10 17:39:00+03:00',\n",
       "               ...\n",
       "               '2022-03-14 22:51:00+03:00', '2022-03-14 22:52:00+03:00',\n",
       "               '2022-03-14 22:53:00+03:00', '2022-03-14 22:54:00+03:00',\n",
       "               '2022-03-14 22:55:00+03:00', '2022-03-14 22:56:00+03:00',\n",
       "               '2022-03-14 22:57:00+03:00', '2022-03-14 22:58:00+03:00',\n",
       "               '2022-03-14 22:59:00+03:00', '2022-03-14 23:00:00+03:00'],\n",
       "              dtype='datetime64[ns, Europe/Moscow]', name='Datetime', length=1170, freq=None)"
      ]
     },
     "execution_count": 138,
     "metadata": {},
     "output_type": "execute_result"
    }
   ],
   "source": [
    "df.index"
   ]
  },
  {
   "cell_type": "code",
   "execution_count": 139,
   "id": "5f2dfe8d",
   "metadata": {},
   "outputs": [],
   "source": [
    "df['t'] = df.index.values.astype(np.int64) // 10 ** 6"
   ]
  },
  {
   "cell_type": "code",
   "execution_count": 140,
   "id": "9a3924a0",
   "metadata": {},
   "outputs": [
    {
     "data": {
      "text/html": [
       "<div>\n",
       "<style scoped>\n",
       "    .dataframe tbody tr th:only-of-type {\n",
       "        vertical-align: middle;\n",
       "    }\n",
       "\n",
       "    .dataframe tbody tr th {\n",
       "        vertical-align: top;\n",
       "    }\n",
       "\n",
       "    .dataframe thead th {\n",
       "        text-align: right;\n",
       "    }\n",
       "</style>\n",
       "<table border=\"1\" class=\"dataframe\">\n",
       "  <thead>\n",
       "    <tr style=\"text-align: right;\">\n",
       "      <th></th>\n",
       "      <th>Open</th>\n",
       "      <th>High</th>\n",
       "      <th>Low</th>\n",
       "      <th>Close</th>\n",
       "      <th>Adj Close</th>\n",
       "      <th>Volume</th>\n",
       "      <th>t</th>\n",
       "    </tr>\n",
       "    <tr>\n",
       "      <th>Datetime</th>\n",
       "      <th></th>\n",
       "      <th></th>\n",
       "      <th></th>\n",
       "      <th></th>\n",
       "      <th></th>\n",
       "      <th></th>\n",
       "      <th></th>\n",
       "    </tr>\n",
       "  </thead>\n",
       "  <tbody>\n",
       "    <tr>\n",
       "      <th>2022-03-14 16:30:00+03:00</th>\n",
       "      <td>219.309998</td>\n",
       "      <td>219.320007</td>\n",
       "      <td>219.270004</td>\n",
       "      <td>219.285004</td>\n",
       "      <td>219.285004</td>\n",
       "      <td>859534</td>\n",
       "      <td>1647264600000</td>\n",
       "    </tr>\n",
       "    <tr>\n",
       "      <th>2022-03-14 16:31:00+03:00</th>\n",
       "      <td>219.059998</td>\n",
       "      <td>219.490005</td>\n",
       "      <td>218.210098</td>\n",
       "      <td>219.466003</td>\n",
       "      <td>219.466003</td>\n",
       "      <td>101083</td>\n",
       "      <td>1647264660000</td>\n",
       "    </tr>\n",
       "    <tr>\n",
       "      <th>2022-03-14 16:32:00+03:00</th>\n",
       "      <td>219.360001</td>\n",
       "      <td>219.520004</td>\n",
       "      <td>216.770004</td>\n",
       "      <td>217.090103</td>\n",
       "      <td>217.090103</td>\n",
       "      <td>233027</td>\n",
       "      <td>1647264720000</td>\n",
       "    </tr>\n",
       "    <tr>\n",
       "      <th>2022-03-14 16:33:00+03:00</th>\n",
       "      <td>217.133102</td>\n",
       "      <td>217.960007</td>\n",
       "      <td>216.320007</td>\n",
       "      <td>216.488007</td>\n",
       "      <td>216.488007</td>\n",
       "      <td>145346</td>\n",
       "      <td>1647264780000</td>\n",
       "    </tr>\n",
       "    <tr>\n",
       "      <th>2022-03-14 16:34:00+03:00</th>\n",
       "      <td>216.570007</td>\n",
       "      <td>217.429993</td>\n",
       "      <td>216.350006</td>\n",
       "      <td>216.869995</td>\n",
       "      <td>216.869995</td>\n",
       "      <td>133000</td>\n",
       "      <td>1647264840000</td>\n",
       "    </tr>\n",
       "    <tr>\n",
       "      <th>...</th>\n",
       "      <td>...</td>\n",
       "      <td>...</td>\n",
       "      <td>...</td>\n",
       "      <td>...</td>\n",
       "      <td>...</td>\n",
       "      <td>...</td>\n",
       "      <td>...</td>\n",
       "    </tr>\n",
       "    <tr>\n",
       "      <th>2022-03-14 22:56:00+03:00</th>\n",
       "      <td>213.369995</td>\n",
       "      <td>213.750000</td>\n",
       "      <td>213.360107</td>\n",
       "      <td>213.554993</td>\n",
       "      <td>213.554993</td>\n",
       "      <td>168402</td>\n",
       "      <td>1647287760000</td>\n",
       "    </tr>\n",
       "    <tr>\n",
       "      <th>2022-03-14 22:57:00+03:00</th>\n",
       "      <td>213.570007</td>\n",
       "      <td>213.570007</td>\n",
       "      <td>213.229996</td>\n",
       "      <td>213.460007</td>\n",
       "      <td>213.460007</td>\n",
       "      <td>133085</td>\n",
       "      <td>1647287820000</td>\n",
       "    </tr>\n",
       "    <tr>\n",
       "      <th>2022-03-14 22:58:00+03:00</th>\n",
       "      <td>213.460007</td>\n",
       "      <td>213.740005</td>\n",
       "      <td>213.380005</td>\n",
       "      <td>213.581207</td>\n",
       "      <td>213.581207</td>\n",
       "      <td>218680</td>\n",
       "      <td>1647287880000</td>\n",
       "    </tr>\n",
       "    <tr>\n",
       "      <th>2022-03-14 22:59:00+03:00</th>\n",
       "      <td>213.600006</td>\n",
       "      <td>213.610001</td>\n",
       "      <td>213.009995</td>\n",
       "      <td>213.190002</td>\n",
       "      <td>213.190002</td>\n",
       "      <td>431198</td>\n",
       "      <td>1647287940000</td>\n",
       "    </tr>\n",
       "    <tr>\n",
       "      <th>2022-03-14 23:00:00+03:00</th>\n",
       "      <td>213.300003</td>\n",
       "      <td>213.300003</td>\n",
       "      <td>213.300003</td>\n",
       "      <td>213.300003</td>\n",
       "      <td>213.300003</td>\n",
       "      <td>0</td>\n",
       "      <td>1647288000000</td>\n",
       "    </tr>\n",
       "  </tbody>\n",
       "</table>\n",
       "<p>391 rows × 7 columns</p>\n",
       "</div>"
      ],
      "text/plain": [
       "                                 Open        High         Low       Close  \\\n",
       "Datetime                                                                    \n",
       "2022-03-14 16:30:00+03:00  219.309998  219.320007  219.270004  219.285004   \n",
       "2022-03-14 16:31:00+03:00  219.059998  219.490005  218.210098  219.466003   \n",
       "2022-03-14 16:32:00+03:00  219.360001  219.520004  216.770004  217.090103   \n",
       "2022-03-14 16:33:00+03:00  217.133102  217.960007  216.320007  216.488007   \n",
       "2022-03-14 16:34:00+03:00  216.570007  217.429993  216.350006  216.869995   \n",
       "...                               ...         ...         ...         ...   \n",
       "2022-03-14 22:56:00+03:00  213.369995  213.750000  213.360107  213.554993   \n",
       "2022-03-14 22:57:00+03:00  213.570007  213.570007  213.229996  213.460007   \n",
       "2022-03-14 22:58:00+03:00  213.460007  213.740005  213.380005  213.581207   \n",
       "2022-03-14 22:59:00+03:00  213.600006  213.610001  213.009995  213.190002   \n",
       "2022-03-14 23:00:00+03:00  213.300003  213.300003  213.300003  213.300003   \n",
       "\n",
       "                            Adj Close  Volume              t  \n",
       "Datetime                                                      \n",
       "2022-03-14 16:30:00+03:00  219.285004  859534  1647264600000  \n",
       "2022-03-14 16:31:00+03:00  219.466003  101083  1647264660000  \n",
       "2022-03-14 16:32:00+03:00  217.090103  233027  1647264720000  \n",
       "2022-03-14 16:33:00+03:00  216.488007  145346  1647264780000  \n",
       "2022-03-14 16:34:00+03:00  216.869995  133000  1647264840000  \n",
       "...                               ...     ...            ...  \n",
       "2022-03-14 22:56:00+03:00  213.554993  168402  1647287760000  \n",
       "2022-03-14 22:57:00+03:00  213.460007  133085  1647287820000  \n",
       "2022-03-14 22:58:00+03:00  213.581207  218680  1647287880000  \n",
       "2022-03-14 22:59:00+03:00  213.190002  431198  1647287940000  \n",
       "2022-03-14 23:00:00+03:00  213.300003       0  1647288000000  \n",
       "\n",
       "[391 rows x 7 columns]"
      ]
     },
     "execution_count": 140,
     "metadata": {},
     "output_type": "execute_result"
    }
   ],
   "source": [
    "real_time_data = df[df['t'] >= start_time]\n",
    "real_time_data"
   ]
  }
 ],
 "metadata": {
  "kernelspec": {
   "display_name": "Python 3",
   "language": "python",
   "name": "python3"
  },
  "language_info": {
   "codemirror_mode": {
    "name": "ipython",
    "version": 3
   },
   "file_extension": ".py",
   "mimetype": "text/x-python",
   "name": "python",
   "nbconvert_exporter": "python",
   "pygments_lexer": "ipython3",
   "version": "3.8.8"
  }
 },
 "nbformat": 4,
 "nbformat_minor": 5
}
