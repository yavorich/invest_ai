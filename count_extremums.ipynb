{
 "cells": [
  {
   "cell_type": "code",
   "execution_count": 2,
   "id": "f6a0d4d0",
   "metadata": {},
   "outputs": [],
   "source": [
    "import os\n",
    "import gc\n",
    "import pandas as pd\n",
    "import matplotlib.pyplot as plt\n",
    "import numpy as np\n",
    "import warnings\n",
    "warnings.filterwarnings(\"ignore\")"
   ]
  },
  {
   "cell_type": "code",
   "execution_count": 2,
   "id": "528dae1f",
   "metadata": {},
   "outputs": [],
   "source": [
    "data_dir = 'btc_data_extended'\n",
    "fname = 'btc_usd_1min.csv'\n",
    "data = pd.read_csv(os.path.join(data_dir, fname), index_col=0)"
   ]
  },
  {
   "cell_type": "markdown",
   "id": "a240edd9",
   "metadata": {},
   "source": [
    "# Find extremum values"
   ]
  },
  {
   "cell_type": "code",
   "execution_count": 3,
   "id": "51dc2509",
   "metadata": {},
   "outputs": [],
   "source": [
    "c_vals = data.c.values  # close values\n",
    "extremums = np.zeros(shape=(len(c_vals)))  # initializing an array of extremum values\n",
    "\n",
    "\n",
    "# searching for extremums on close data values\n",
    "\n",
    "for i in range(len(c_vals)-1):\n",
    "    if c_vals[i+1] <= c_vals[i]:\n",
    "        for j in range(i+1, len(c_vals)):\n",
    "            if (c_vals[j] - c_vals[i]) / c_vals[i] <= -0.005:\n",
    "                extremums[i] = 1\n",
    "                break\n",
    "            if (c_vals[j] > c_vals[i]):\n",
    "                extremums[i] = 0\n",
    "                break\n",
    "            j += 1\n",
    "    else:\n",
    "        flag = False\n",
    "        j = i+1\n",
    "        for j in range(i+1, len(c_vals)):\n",
    "            if (c_vals[j] - c_vals[i]) / c_vals[i] >= 0.005:\n",
    "                extremums[i] = -1\n",
    "                break\n",
    "            if (c_vals[j] < c_vals[i]):\n",
    "                extremums[i] = 0\n",
    "                break\n",
    "            j += 1\n",
    "\n",
    "            \n",
    "idxs = np.where(extremums!=0)[0] # get indices of extremums\n",
    "\n",
    "\n",
    "# reduce duplicates\n",
    "\n",
    "for i in range(len(idxs)):\n",
    "    if extremums[idxs[i]] != 0:\n",
    "        for j in range(i+1, len(idxs)):\n",
    "            if extremums[idxs[j]] == extremums[idxs[i]]:\n",
    "                extremums[idxs[j]] = 0\n",
    "            else:\n",
    "                break\n",
    "\n",
    "                \n",
    "# write values to a separate dataframe column\n",
    "\n",
    "data['e_class'] = extremums\n",
    "\n",
    "\n",
    "# bring all points to relative form \n",
    "\n",
    "idxs = np.where(extremums!=0)[0]\n",
    "for i in range(1, len(idxs)):\n",
    "    for j in range(idxs[i-1]+1, idxs[i]):\n",
    "        extremums[j] = (((c_vals[j] - c_vals[idxs[i-1]]) / \\\n",
    "                         (c_vals[idxs[i]] - c_vals[idxs[i-1]])) * 2 - 1) * (extremums[idxs[i]])\n",
    "\n",
    "        \n",
    "# write values to a separate dataframe column\n",
    "\n",
    "data['e_regr'] = extremums"
   ]
  },
  {
   "cell_type": "code",
   "execution_count": 10,
   "id": "51da8fa3",
   "metadata": {},
   "outputs": [
    {
     "data": {
      "text/plain": [
       "[<matplotlib.lines.Line2D at 0x2b5b926c250>]"
      ]
     },
     "execution_count": 10,
     "metadata": {},
     "output_type": "execute_result"
    },
    {
     "data": {
      "image/png": "[encoded data removed]",
      "text/plain": [
       "<Figure size 432x288 with 1 Axes>"
      ]
     },
     "metadata": {
      "needs_background": "light"
     },
     "output_type": "display_data"
    }
   ],
   "source": [
    "# draw a slice of an array with regressive values\n",
    "\n",
    "plt.plot(data.e_regr.values[500:1000], 'b')\n",
    "plt.plot(np.where(data.e_class.values[500:1000] == 1)[0], \n",
    "         data.e_class.values[500:1000][np.where(data.e_class.values[500:1000] == 1)[0]], 'r.')\n",
    "plt.plot(np.where(data.e_class.values[500:1000] == -1)[0], \n",
    "         data.e_class.values[500:1000][np.where(data.e_class.values[500:1000] == -1)[0]], 'g.')"
   ]
  },
  {
   "cell_type": "code",
   "execution_count": 12,
   "id": "ef5d8d1d",
   "metadata": {},
   "outputs": [
    {
     "data": {
      "text/plain": [
       " 0.0    3525079\n",
       "-1.0      49689\n",
       " 1.0      49689\n",
       "Name: e_class, dtype: int64"
      ]
     },
     "execution_count": 12,
     "metadata": {},
     "output_type": "execute_result"
    }
   ],
   "source": [
    "data.e_class.value_counts()  # show value counts"
   ]
  },
  {
   "cell_type": "code",
   "execution_count": 15,
   "id": "660f3484",
   "metadata": {},
   "outputs": [],
   "source": [
    "data.to_csv(os.path.join(data_dir, fname))  # save updated dataframe"
   ]
  },
  {
   "cell_type": "code",
   "execution_count": 3,
   "id": "48d0233e",
   "metadata": {},
   "outputs": [],
   "source": [
    "train_dir = 'btc_data_extended/train_slices'\n",
    "val_dir = 'btc_data_extended/val_slices'"
   ]
  },
  {
   "cell_type": "markdown",
   "id": "c551c26c",
   "metadata": {},
   "source": [
    "# Making extremum areas and split data into slices"
   ]
  },
  {
   "cell_type": "code",
   "execution_count": 4,
   "id": "e906ffa3",
   "metadata": {},
   "outputs": [],
   "source": [
    "# making areas from intervals between extremums: negative, neutral and positive\n",
    "\n",
    "def get_triple_ex(data, thr):\n",
    "    res = np.zeros_like(data)\n",
    "    res[data < -thr] = -1\n",
    "    res[data > thr] = 1\n",
    "    return res\n",
    "\n",
    "\n",
    "# split data into  slices and save to specific folders\n",
    "\n",
    "def save_slices(save_dir, slices=36, mode='train'):\n",
    "    \n",
    "    for i in range(slices):\n",
    "        data = pd.read_csv(os.path.join(save_dir, f's{i+1}.csv'), index_col=0)\n",
    "        data['e_bin'] = np.where(data['e_regr'].values > 0, 1, 0)\n",
    "        data['e_trip'] = get_triple_ex(data['e_regr'], 0.28)  # 0.28 is optimal threshold for making balanced classes\n",
    "        data.to_csv(os.path.join(save_dir, f's{i+1}.csv'))\n",
    "        print(f'{mode} data {i+1}/{slices} saved')\n"
   ]
  },
  {
   "cell_type": "code",
   "execution_count": null,
   "id": "c916dad6",
   "metadata": {},
   "outputs": [],
   "source": [
    "save_slices(train_dir, mode='train') # saving train slices\n",
    "save_slices(val_dir, mode='val') # saving val slices"
   ]
  }
 ],
 "metadata": {
  "kernelspec": {
   "display_name": "Python 3",
   "language": "python",
   "name": "python3"
  },
  "language_info": {
   "codemirror_mode": {
    "name": "ipython",
    "version": 3
   },
   "file_extension": ".py",
   "mimetype": "text/x-python",
   "name": "python",
   "nbconvert_exporter": "python",
   "pygments_lexer": "ipython3",
   "version": "3.8.8"
  }
 },
 "nbformat": 4,
 "nbformat_minor": 5
}
